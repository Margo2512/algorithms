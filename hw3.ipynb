{
 "cells": [
  {
   "cell_type": "code",
   "execution_count": 3,
   "id": "8c143052",
   "metadata": {},
   "outputs": [],
   "source": [
    "def solve(s):\n",
    "    if len(s) == 0: return \"\"\n",
    "    \n",
    "    # Вычисляем префикс-функцию\n",
    "    pi = [0] * len(s)\n",
    "    for i in range(1, len(s)):\n",
    "        j = pi[i - 1]\n",
    "        while j > 0 and s[i] != s[j]:\n",
    "            j = pi[j - 1]\n",
    "        if s[i] == s[j]: j += 1\n",
    "        pi[i] = j\n",
    "\n",
    "    # В последнем элементе префикс-функции будет длина\n",
    "    # наибольшего суффикса, который также является префиксом\n",
    "    return s[:pi[-1]]"
   ]
  },
  {
   "cell_type": "code",
   "execution_count": 4,
   "id": "f32d9618",
   "metadata": {},
   "outputs": [
    {
     "name": "stdout",
     "output_type": "stream",
     "text": [
      "### test abacaba ###\n",
      "aba\n",
      "### test aaabbaaa ###\n",
      "aaa\n",
      "### test azaza ###\n",
      "aza\n",
      "### test a ###\n",
      "\n",
      "### test ab ###\n",
      "\n",
      "### test aa ###\n",
      "a\n",
      "### test  ###\n",
      "\n"
     ]
    }
   ],
   "source": [
    "test_cases = [\"abacaba\", \"aaabbaaa\", \"azaza\", \"a\", \"ab\", \"aa\", \"\"]\n",
    "    \n",
    "for s in test_cases:\n",
    "    print(f\"### test {s} ###\")\n",
    "    print(solve(s))"
   ]
  }
 ],
 "metadata": {
  "kernelspec": {
   "display_name": "Python (myenv)",
   "language": "python",
   "name": "myenv"
  },
  "language_info": {
   "codemirror_mode": {
    "name": "ipython",
    "version": 3
   },
   "file_extension": ".py",
   "mimetype": "text/x-python",
   "name": "python",
   "nbconvert_exporter": "python",
   "pygments_lexer": "ipython3",
   "version": "3.7.9"
  }
 },
 "nbformat": 4,
 "nbformat_minor": 5
}
